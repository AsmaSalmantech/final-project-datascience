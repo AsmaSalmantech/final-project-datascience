{
 "cells": [
  {
   "cell_type": "markdown",
   "id": "012e5a19",
   "metadata": {},
   "source": [
    "# Data Science Tools and Ecosystem"
   ]
  },
  {
   "cell_type": "markdown",
   "id": "9b750b80",
   "metadata": {},
   "source": [
    "In this notebook, we will explore various tools, libraries, and languages used in the field of Data Science. We will also demonstrate basic arithmetic operations using Python."
   ]
  },
  {
   "cell_type": "markdown",
   "id": "ae72b98b",
   "metadata": {},
   "source": [
    "**Some of the popular languages that Data Scientists use are:**\n",
    "- Python\n",
    "- R\n",
    "- SQL\n",
    "- Julia\n",
    "- Scala"
   ]
  },
  {
   "cell_type": "markdown",
   "id": "2b1b8f6a",
   "metadata": {},
   "source": [
    "**Some of the commonly used libraries used by Data Scientists include:**\n",
    "- NumPy\n",
    "- Pandas\n",
    "- Matplotlib\n",
    "- Scikit-learn\n",
    "- TensorFlow"
   ]
  },
  {
   "cell_type": "markdown",
   "id": "c60420df",
   "metadata": {},
   "source": [
    "| Data Science Tools     |\n",
    "|------------------------|\n",
    "| Jupyter Notebook       |\n",
    "| RStudio                |\n",
    "| Apache Zeppelin        |"
   ]
  },
  {
   "cell_type": "markdown",
   "id": "5084753d",
   "metadata": {},
   "source": [
    "### Below are a few examples of evaluating arithmetic expressions in Python."
   ]
  },
  {
   "cell_type": "code",
   "execution_count": null,
   "id": "db0922b4",
   "metadata": {},
   "outputs": [],
   "source": [
    "# This is a simple arithmetic expression to multiply then add numbers\n",
    "(3 * 4) + 5"
   ]
  },
  {
   "cell_type": "code",
   "execution_count": null,
   "id": "87bc5926",
   "metadata": {},
   "outputs": [],
   "source": [
    "# This will convert 200 minutes to hours by dividing by 60\n",
    "200 / 60"
   ]
  },
  {
   "cell_type": "markdown",
   "id": "530788bb",
   "metadata": {},
   "source": [
    "### Objectives:\n",
    "- List popular languages for Data Science\n",
    "- List commonly used libraries\n",
    "- Create tables using markdown\n",
    "- Perform arithmetic expressions using Python\n",
    "- Share the notebook publicly on GitHub"
   ]
  },
  {
   "cell_type": "markdown",
   "id": "2604b156",
   "metadata": {},
   "source": [
    "**Author:** Asma Salman Almostadi"
   ]
  },
  {
   "cell_type": "markdown",
   "id": "789eeea8",
   "metadata": {},
   "source": [
    "**GitHub Link to My Notebook:**  \n",
    "[Click here to view my notebook](https://github.com/yourusername/your-repo-name/blob/main/your-notebook-name.ipynb)"
   ]
  }
 ],
 "metadata": {
  "kernelspec": {
   "display_name": "Python 3",
   "language": "python",
   "name": "python3"
  }
 },
 "nbformat": 4,
 "nbformat_minor": 5
}
